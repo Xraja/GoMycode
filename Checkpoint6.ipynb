{
 "cells": [
  {
   "cell_type": "code",
   "execution_count": 7,
   "id": "d0cec597",
   "metadata": {},
   "outputs": [
    {
     "name": "stdout",
     "output_type": "stream",
     "text": [
      "[[1, 2, 3], [4, 5, 6]]\n"
     ]
    }
   ],
   "source": [
    "import numpy as np\n",
    "new_array=np.array([[1,2,3],[4,5,6]])\n",
    "num_list =new_array.tolist()\n",
    "print(num_list)"
   ]
  },
  {
   "cell_type": "code",
   "execution_count": 9,
   "id": "839a77b1",
   "metadata": {},
   "outputs": [
    {
     "name": "stdout",
     "output_type": "stream",
     "text": [
      "Numpy Matrix is:\n",
      "[[ 1  2  3  4]\n",
      " [ 5  6  7  8]\n",
      " [ 9 10 11 12]\n",
      " [12 14 15 16]]\n",
      "\n",
      "Trace of given 4X4 matrix:\n",
      "34\n"
     ]
    }
   ],
   "source": [
    "import numpy as np\n",
    "  \n",
    "n_array = np.array([[1, 2, 3 , 4],\n",
    "                    [5, 6, 7, 8],\n",
    "                    [9, 10, 11, 12],\n",
    "                    [12, 14, 15, 16]])\n",
    "  \n",
    "print(\"Numpy Matrix is:\")\n",
    "print(n_array)\n",
    "  \n",
    "trace = np.trace(n_array)\n",
    "  \n",
    "  \n",
    "print(\"\\nTrace of given matrix:\")\n",
    "print(trace)"
   ]
  },
  {
   "cell_type": "code",
   "execution_count": 19,
   "id": "20645360",
   "metadata": {},
   "outputs": [
    {
     "name": "stdout",
     "output_type": "stream",
     "text": [
      "Original array: \n",
      "[[1 2]\n",
      " [3 5]]\n",
      "give a number2\n",
      "Values bigger than  2 is  [3 5]\n"
     ]
    }
   ],
   "source": [
    "import numpy as np\n",
    "array = np.array([[1,2],[3,5]])\n",
    "print(\"Original array: \")\n",
    "print(array)\n",
    "x= int(input(\"give a number\"))\n",
    "print(\"Values bigger than \", x , \"is \", array[array>x])\n"
   ]
  },
  {
   "cell_type": "code",
   "execution_count": 21,
   "id": "92b91fef",
   "metadata": {},
   "outputs": [
    {
     "name": "stdout",
     "output_type": "stream",
     "text": [
      "[[ 5  8]\n",
      " [13 10]]\n"
     ]
    }
   ],
   "source": [
    "import numpy as np\n",
    "A = np.array([[1,2],[3,5]])\n",
    "B = np.array([[4,6],[10,5]])\n",
    "print(np.add(A,B))"
   ]
  },
  {
   "cell_type": "code",
   "execution_count": null,
   "id": "7871d163",
   "metadata": {},
   "outputs": [],
   "source": []
  }
 ],
 "metadata": {
  "kernelspec": {
   "display_name": "Python 3 (ipykernel)",
   "language": "python",
   "name": "python3"
  },
  "language_info": {
   "codemirror_mode": {
    "name": "ipython",
    "version": 3
   },
   "file_extension": ".py",
   "mimetype": "text/x-python",
   "name": "python",
   "nbconvert_exporter": "python",
   "pygments_lexer": "ipython3",
   "version": "3.9.12"
  }
 },
 "nbformat": 4,
 "nbformat_minor": 5
}
