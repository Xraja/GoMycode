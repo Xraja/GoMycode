{
 "cells": [
  {
   "cell_type": "code",
   "execution_count": 8,
   "id": "156a559d",
   "metadata": {},
   "outputs": [
    {
     "data": {
      "text/plain": [
       "15"
      ]
     },
     "execution_count": 8,
     "metadata": {},
     "output_type": "execute_result"
    }
   ],
   "source": [
    "def Max(a,b,c):\n",
    "    maxN=a\n",
    "    if a<b and b>c:\n",
    "        maxN=b\n",
    "    elif a<b and b<c:\n",
    "        maxN=c\n",
    "    return maxN\n",
    "Max(10,15,5)"
   ]
  },
  {
   "cell_type": "code",
   "execution_count": 22,
   "id": "edcb4725",
   "metadata": {},
   "outputs": [
    {
     "data": {
      "text/plain": [
       "(50, 30)"
      ]
     },
     "execution_count": 22,
     "metadata": {},
     "output_type": "execute_result"
    }
   ],
   "source": [
    "def calculation(a,b):\n",
    "    return a+b,a-b\n",
    "calculation(40, 10) "
   ]
  },
  {
   "cell_type": "code",
   "execution_count": 17,
   "id": "443075cd",
   "metadata": {},
   "outputs": [
    {
     "name": "stdout",
     "output_type": "stream",
     "text": [
      "list1 est [1, 3, 5, 7, 9]\n",
      "list2 est [2, 4, 6, 8]\n",
      "la Somme est 25\n",
      "le resulat de la multiplication est  384\n"
     ]
    }
   ],
   "source": [
    "def SUM(list = []):\n",
    "    res = 0\n",
    "    for i in range(len(list)):\n",
    "        res = res + list[i]\n",
    "    return res\n",
    "def Multiple(list = []):\n",
    "    res = 1\n",
    "    for i in range(len(list)):\n",
    "        res = res * list[i]\n",
    "    return res\n",
    "list = [1, 2, 3, 4, 5, 6, 7, 8, 9]\n",
    "List1=[]\n",
    "List2=[]\n",
    "for i in range(len(list)):\n",
    "    if (i % 2==0):\n",
    "        List1.append(list[i])\n",
    "    else:\n",
    "        List2.append(list[i])\n",
    "print(\"list1 est\", List1)       \n",
    "print(\"list2 est\", List2)               \n",
    "print(\"la Somme est\", SUM(List1))\n",
    "print( \"le resulat de la multiplication est \",Multiple(List2))"
   ]
  },
  {
   "cell_type": "code",
   "execution_count": 19,
   "id": "a06d5716",
   "metadata": {},
   "outputs": [
    {
     "name": "stdout",
     "output_type": "stream",
     "text": [
      "green-red-yellow-black-white\n",
      "black-green-red-white-yellow\n"
     ]
    }
   ],
   "source": [
    "items=[n for n in input().split('-')]\n",
    "items.sort()\n",
    "print('-'.join(items))\n"
   ]
  },
  {
   "cell_type": "code",
   "execution_count": null,
   "id": "4f2dcdb6",
   "metadata": {},
   "outputs": [],
   "source": []
  }
 ],
 "metadata": {
  "kernelspec": {
   "display_name": "Python 3 (ipykernel)",
   "language": "python",
   "name": "python3"
  },
  "language_info": {
   "codemirror_mode": {
    "name": "ipython",
    "version": 3
   },
   "file_extension": ".py",
   "mimetype": "text/x-python",
   "name": "python",
   "nbconvert_exporter": "python",
   "pygments_lexer": "ipython3",
   "version": "3.9.12"
  }
 },
 "nbformat": 4,
 "nbformat_minor": 5
}
