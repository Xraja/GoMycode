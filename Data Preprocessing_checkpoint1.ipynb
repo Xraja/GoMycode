{
 "cells": [
  {
   "cell_type": "code",
   "execution_count": 1,
   "id": "bd260270",
   "metadata": {},
   "outputs": [
    {
     "name": "stdout",
     "output_type": "stream",
     "text": [
      "the three first rows\n",
      "        name  score  attempts qualify\n",
      "0  Anastasia   12.5       1.0     yes\n",
      "1       Dima    9.0       3.0      no\n",
      "2  Katherine   16.5       2.0     yes\n",
      "the columns name and score are\n",
      "         name  score\n",
      "0   Anastasia   12.5\n",
      "1        Dima    9.0\n",
      "2   Katherine   16.5\n",
      "3       James    NaN\n",
      "4       Emily    9.0\n",
      "5     Michael   20.0\n",
      "6     Matthew   14.5\n",
      "7       Laura    NaN\n",
      "8       Kevin    8.0\n",
      "9       Jonas   19.0\n",
      "10      Elias   20.0\n",
      "11     Myriam   16.0\n",
      "delete the attempts\n",
      "         name  score qualify\n",
      "0   Anastasia   12.5     yes\n",
      "1        Dima    9.0      no\n",
      "2   Katherine   16.5     yes\n",
      "3       James    NaN      no\n",
      "4       Emily    9.0      no\n",
      "5     Michael   20.0     yes\n",
      "6     Matthew   14.5     yes\n",
      "7       Laura    NaN      no\n",
      "8       Kevin    8.0     NaN\n",
      "9       Jonas   19.0     yes\n",
      "10      Elias   20.0     yes\n",
      "11     Myriam   16.0     yes\n",
      "add Success columns\n",
      "         name  score qualify Success\n",
      "0   Anastasia   12.5     yes       1\n",
      "1        Dima    9.0      no       0\n",
      "2   Katherine   16.5     yes       1\n",
      "3       James    NaN      no  np.nan\n",
      "4       Emily    9.0      no       0\n",
      "5     Michael   20.0     yes       1\n",
      "6     Matthew   14.5     yes       1\n",
      "7       Laura    NaN      no  np.nan\n",
      "8       Kevin    8.0     NaN       0\n",
      "9       Jonas   19.0     yes       1\n",
      "10      Elias   20.0     yes       1\n",
      "11     Myriam   16.0     yes       1\n"
     ]
    }
   ],
   "source": [
    "import pandas as pd\n",
    "import numpy as np\n",
    "\n",
    "def categorise(row):  \n",
    "    if row['score'] >=10:\n",
    "        return 1\n",
    "    elif row['score'] <10 :\n",
    "        return 0\n",
    "    else:\n",
    "        return 'np.nan'\n",
    "\n",
    "exam_data = {\n",
    "    'name': ['Anastasia', 'Dima', 'Katherine', 'James', 'Emily', 'Michael', 'Matthew', 'Laura', 'Kevin', 'Jonas', \"Elias\", 'Myriam'],\n",
    "    'score': [12.5, 9, 16.5, np.nan, 9, 20, 14.5, np.nan , 8, 19, 20, 16],\n",
    "    'attempts': [1, 3, 2, 3, 2, 3, 1, 1, np.nan ,1, 3, 2],\n",
    "    'qualify': ['yes', 'no', 'yes', 'no', 'no', 'yes', 'yes', 'no',np.nan , 'yes', 'yes', 'yes']}\n",
    "\n",
    "df=pd.DataFrame(exam_data)\n",
    "print(\"the three first rows\")\n",
    "print(df.head(3))\n",
    "print(\"the columns name and score are\")\n",
    "print(df[['name','score']])\n",
    "print(\"delete the attempts\")\n",
    "df=df.drop('attempts',axis=1)\n",
    "print(df)\n",
    "print('add Success columns')\n",
    "df['Success'] = df.apply(lambda row: categorise(row), axis=1)\n",
    "print(df)\n",
    "df.to_csv('my_data.csv')"
   ]
  },
  {
   "cell_type": "code",
   "execution_count": null,
   "id": "8c8f9b11",
   "metadata": {},
   "outputs": [],
   "source": []
  }
 ],
 "metadata": {
  "kernelspec": {
   "display_name": "Python 3 (ipykernel)",
   "language": "python",
   "name": "python3"
  },
  "language_info": {
   "codemirror_mode": {
    "name": "ipython",
    "version": 3
   },
   "file_extension": ".py",
   "mimetype": "text/x-python",
   "name": "python",
   "nbconvert_exporter": "python",
   "pygments_lexer": "ipython3",
   "version": "3.9.12"
  }
 },
 "nbformat": 4,
 "nbformat_minor": 5
}
