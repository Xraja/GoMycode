{
 "cells": [
  {
   "cell_type": "code",
   "execution_count": 6,
   "id": "c2059e97",
   "metadata": {},
   "outputs": [
    {
     "name": "stdout",
     "output_type": "stream",
     "text": [
      "give a number a 4\n",
      "give a seconde number b 5\n",
      "give an opertion *\n",
      "the result of the operation  4 * 5 is  20\n",
      "did you like to continue please answer by 1 or 0\n",
      "write 1 to continue else 01\n",
      "give an other number d 2\n",
      "give an opertion to use now+\n",
      "the result of the operation  2 + 20 is  22\n"
     ]
    }
   ],
   "source": [
    "def add(a,b):\n",
    "    return a+b\n",
    "def division(a,b):\n",
    "    return a/b\n",
    "def Multip(a,b):\n",
    "    return a*b\n",
    "def sub(a,b):\n",
    "    return  a-b\n",
    "def calculator(a,b,c):\n",
    "    if c == \"+\":\n",
    "        return add(a,b)\n",
    "    elif c==\"-\":\n",
    "        return sub(a,b)\n",
    "    elif c==\"*\":\n",
    "        return Multip(a,b)\n",
    "    elif c==\"/\":\n",
    "        return division(a,b)\n",
    "    else:\n",
    "        print (\"you should give an operation +, - , * or /\")\n",
    "        \n",
    "a= int(input(\"give a number a \"))\n",
    "b= int(input(\"give a seconde number b \"))\n",
    "c= input(\"give an opertion \")\n",
    "res = calculator(a,b,c)\n",
    "print(\"the result of the operation \", a, c, b ,\"is \", res) \n",
    "print(\"did you like to continue please answer by 1 or 0\")\n",
    "cont= int(input(\"write 1 to continue else 0\"))\n",
    "if cont == 1:\n",
    "    d= int(input(\"give an other number d \"))\n",
    "    op= input(\"give an opertion to use now\")\n",
    "    print(\"the result of the operation \", d, op, res ,\"is \", calculator(res,d,op)) \n",
    "elif cont == 0:\n",
    "    print (\"end\")"
   ]
  },
  {
   "cell_type": "code",
   "execution_count": null,
   "id": "cc1033d2",
   "metadata": {},
   "outputs": [],
   "source": []
  }
 ],
 "metadata": {
  "kernelspec": {
   "display_name": "Python 3 (ipykernel)",
   "language": "python",
   "name": "python3"
  },
  "language_info": {
   "codemirror_mode": {
    "name": "ipython",
    "version": 3
   },
   "file_extension": ".py",
   "mimetype": "text/x-python",
   "name": "python",
   "nbconvert_exporter": "python",
   "pygments_lexer": "ipython3",
   "version": "3.9.12"
  }
 },
 "nbformat": 4,
 "nbformat_minor": 5
}
