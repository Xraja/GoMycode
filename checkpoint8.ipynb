{
 "cells": [
  {
   "cell_type": "code",
   "execution_count": 1,
   "id": "e6e7109c",
   "metadata": {},
   "outputs": [
    {
     "name": "stdout",
     "output_type": "stream",
     "text": [
      "-10\n",
      "-9\n",
      "-8\n",
      "-7\n",
      "-6\n",
      "-5\n",
      "-4\n",
      "-3\n",
      "-2\n",
      "-1\n"
     ]
    }
   ],
   "source": [
    "for i in range(-10,0,1):\n",
    "    print(i)"
   ]
  },
  {
   "cell_type": "code",
   "execution_count": 2,
   "id": "16785ec7",
   "metadata": {},
   "outputs": [
    {
     "name": "stdout",
     "output_type": "stream",
     "text": [
      "give a number75869\n",
      "5\n"
     ]
    }
   ],
   "source": [
    "num = int(input(\"give a number\"))\n",
    "i=0\n",
    "while num!=0:\n",
    "    num=num//10\n",
    "    i=i+1\n",
    "print(i)"
   ]
  },
  {
   "cell_type": "code",
   "execution_count": 32,
   "id": "e695a5db",
   "metadata": {},
   "outputs": [
    {
     "name": "stdout",
     "output_type": "stream",
     "text": [
      "give a number2\n",
      "8\n"
     ]
    }
   ],
   "source": [
    "def cub(n):\n",
    "    return n*n*n\n",
    "n = int(input(\"give a number\"))\n",
    "# Driver Code\n",
    "print(cub(n))"
   ]
  },
  {
   "cell_type": "code",
   "execution_count": 31,
   "id": "685ea490",
   "metadata": {},
   "outputs": [
    {
     "name": "stdout",
     "output_type": "stream",
     "text": [
      "give a number a120\n",
      "give a number b110\n",
      "protuct of 120 and 110 is  13200\n",
      "sum of  120 and 110 is 230\n"
     ]
    }
   ],
   "source": [
    "def mult(a,b):\n",
    "    return a*b\n",
    "def Sum(a,b):\n",
    "    return a+b\n",
    "# Driver Code\n",
    "a = int(input(\"give a number a\"))\n",
    "b = int(input(\"give a number b\"))\n",
    "c=mult(a,b)\n",
    "print(\"protuct of\",a, \"and\", b , \"is \",c)\n",
    "if(c>1000):\n",
    "    print(\"sum of \",a, \"and\",b, \"is\",Sum(a,b))"
   ]
  },
  {
   "cell_type": "code",
   "execution_count": 30,
   "id": "6a8acfe5",
   "metadata": {},
   "outputs": [
    {
     "name": "stdout",
     "output_type": "stream",
     "text": [
      "True\n",
      "False\n"
     ]
    }
   ],
   "source": [
    "def comparison(list):\n",
    "    if int(list[0])==int(list[-1]):\n",
    "        return True\n",
    "    else:\n",
    "        return False\n",
    "# Driver Code\n",
    "list1=[1,2,3,4,1]\n",
    "list2=[1,2,3,4]\n",
    "print(comparison(list1))\n",
    "print(comparison(list2))"
   ]
  },
  {
   "cell_type": "code",
   "execution_count": 29,
   "id": "30fe8a12",
   "metadata": {},
   "outputs": [
    {
     "name": "stdout",
     "output_type": "stream",
     "text": [
      "list odd est [23, 11, 17]\n",
      "list even est [24, 36, 12]\n",
      "new list is  [23, 11, 17, 24, 36, 12]\n"
     ]
    }
   ],
   "source": [
    "def even(list):\n",
    "    list1=[]\n",
    "    for i in range(len(list)):\n",
    "        if list[i]%2==0:\n",
    "            list1.append(list[i])\n",
    "    print(\"list even est\",list1)\n",
    "    return list1\n",
    "def odd(list):\n",
    "    list1=[]\n",
    "    for i in range(len(list)):\n",
    "        if list[i]%2!=0:\n",
    "            list1.append(list[i])\n",
    "    print(\"list odd est\",list1)\n",
    "    return list1\n",
    "# Driver Code\n",
    "list1=[10, 20, 23, 11, 17]\n",
    "list2=[13, 43, 24, 36, 12]\n",
    "listodd=odd(list1)\n",
    "listeven=even(list2)\n",
    "listnew= listodd+listeven\n",
    "print(\"new list is \", listnew)"
   ]
  },
  {
   "cell_type": "code",
   "execution_count": 28,
   "id": "4cbebfc9",
   "metadata": {},
   "outputs": [
    {
     "name": "stdout",
     "output_type": "stream",
     "text": [
      "occurence is  Counter({45: 3, 11: 2, 23: 2, 8: 1, 89: 1})\n"
     ]
    }
   ],
   "source": [
    "from collections import Counter\n",
    "def occurrence(list):\n",
    "    return Counter(list)\n",
    "# Driver Code\n",
    "list=[11, 45, 8, 11, 23, 45, 23, 45, 89]\n",
    "print(\"occurence is \", occurrence(list))"
   ]
  },
  {
   "cell_type": "code",
   "execution_count": 27,
   "id": "c085c049",
   "metadata": {},
   "outputs": [
    {
     "name": "stdout",
     "output_type": "stream",
     "text": [
      "set1 intersection set2 :  {57, 83, 29}\n",
      "set1 after removing intersection is  {65, 23, 42, 78}\n"
     ]
    }
   ],
   "source": [
    "def Intersection(set1, set2):\n",
    "    return set1.intersection(set2)\n",
    "def removeIntersection(set1, set2):\n",
    "    for i in set1&set2:\n",
    "        set1.remove(i)\n",
    "    return set1\n",
    "# Driver Code\n",
    "set1 = {65, 42, 78, 83, 23, 57, 29}\n",
    "set2 = {67, 73, 43, 48, 83, 57, 29}\n",
    "print(\"set1 intersection set2 : \", Intersection(set1,set2))\n",
    "print(\"set1 after removing intersection is \",removeIntersection(set1,set2))"
   ]
  },
  {
   "cell_type": "code",
   "execution_count": null,
   "id": "bc4bc41f",
   "metadata": {},
   "outputs": [],
   "source": []
  }
 ],
 "metadata": {
  "kernelspec": {
   "display_name": "Python 3 (ipykernel)",
   "language": "python",
   "name": "python3"
  },
  "language_info": {
   "codemirror_mode": {
    "name": "ipython",
    "version": 3
   },
   "file_extension": ".py",
   "mimetype": "text/x-python",
   "name": "python",
   "nbconvert_exporter": "python",
   "pygments_lexer": "ipython3",
   "version": "3.9.12"
  }
 },
 "nbformat": 4,
 "nbformat_minor": 5
}
