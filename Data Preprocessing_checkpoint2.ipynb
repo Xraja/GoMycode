{
 "cells": [
  {
   "cell_type": "code",
   "execution_count": 1,
   "id": "4f8d42c4",
   "metadata": {},
   "outputs": [],
   "source": [
    "import pandas as pd\n",
    "import numpy as np\n",
    "from sklearn.preprocessing import LabelEncoder\n",
    "\n",
    "\n",
    "def categorise(row):  \n",
    "    if row['score'] >=10:\n",
    "        return 1\n",
    "    elif row['score'] <10 :\n",
    "        return 0\n",
    "    else:\n",
    "        return 'np.nan'\n",
    "\n",
    "exam_data = {\n",
    "    'name': ['Anastasia', 'Dima', 'Katherine', 'James', 'Emily', 'Michael', 'Matthew', 'Laura', 'Kevin', 'Jonas', \"Elias\", 'Myriam'],\n",
    "    'score': [12.5, 9, 16.5, np.nan, 9, 20, 14.5, np.nan , 8, 19, 20, 16],\n",
    "    'attempts': [1, 3, 2, 3, 2, 3, 1, 1, np.nan ,1, 3, 2],\n",
    "    'qualify': ['yes', 'no', 'yes', 'no', 'no', 'yes', 'yes', 'no',np.nan , 'yes', 'yes', 'yes']}\n",
    "\n",
    "labels = ['a', 'b', 'c', 'd', 'e', 'f', 'g', 'h', 'i', 'j', 'k', 'l']\n"
   ]
  },
  {
   "cell_type": "code",
   "execution_count": 2,
   "id": "932d5476",
   "metadata": {},
   "outputs": [
    {
     "name": "stdout",
     "output_type": "stream",
     "text": [
      "        name  score  attempts qualify\n",
      "a  Anastasia   12.5       1.0     yes\n",
      "b       Dima    9.0       3.0      no\n",
      "c  Katherine   16.5       2.0     yes\n",
      "d      James    NaN       3.0      no\n",
      "e      Emily    9.0       2.0      no\n",
      "f    Michael   20.0       3.0     yes\n",
      "g    Matthew   14.5       1.0     yes\n",
      "h      Laura    NaN       1.0      no\n",
      "i      Kevin    8.0       NaN     NaN\n",
      "j      Jonas   19.0       1.0     yes\n",
      "k      Elias   20.0       3.0     yes\n",
      "l     Myriam   16.0       2.0     yes\n"
     ]
    }
   ],
   "source": [
    "df=pd.DataFrame(exam_data,index=labels)\n",
    "print(df)"
   ]
  },
  {
   "cell_type": "code",
   "execution_count": 3,
   "id": "81fe15c4",
   "metadata": {},
   "outputs": [
    {
     "name": "stdout",
     "output_type": "stream",
     "text": [
      "sum of NaN values  name        0\n",
      "score       2\n",
      "attempts    1\n",
      "qualify     1\n",
      "dtype: int64\n",
      "total number of missing values in the DataFrame   4\n"
     ]
    }
   ],
   "source": [
    "print(\"sum of NaN values \",df.isnull().sum())\n",
    "print(\"total number of missing values in the DataFrame  \",df.isnull().sum().sum())"
   ]
  },
  {
   "cell_type": "code",
   "execution_count": 5,
   "id": "d1b5d31c",
   "metadata": {},
   "outputs": [
    {
     "name": "stdout",
     "output_type": "stream",
     "text": [
      "        name  score  attempts qualify\n",
      "a  Anastasia   12.5       1.0     yes\n",
      "b       Dima    9.0       3.0      no\n",
      "c  Katherine   16.5       2.0     yes\n",
      "d      James    8.0       3.0      no\n",
      "e      Emily    9.0       2.0      no\n",
      "f    Michael   20.0       3.0     yes\n",
      "g    Matthew   14.5       1.0     yes\n",
      "h      Laura    8.0       1.0      no\n",
      "i      Kevin    8.0       2.0      no\n",
      "j      Jonas   19.0       1.0     yes\n",
      "k      Elias   20.0       3.0     yes\n",
      "l     Myriam   16.0       2.0     yes\n"
     ]
    }
   ],
   "source": [
    "df['score'].fillna(df['score'].min(),inplace=True)\n",
    "df['attempts'].fillna(df['attempts'].mean(),inplace=True)\n",
    "df['qualify'].fillna('no',inplace=True)\n",
    "print(df)"
   ]
  },
  {
   "cell_type": "code",
   "execution_count": 6,
   "id": "e1c61671",
   "metadata": {},
   "outputs": [
    {
     "name": "stdout",
     "output_type": "stream",
     "text": [
      "        name  score  attempts  qualify\n",
      "a  Anastasia   12.5       1.0        1\n",
      "b       Dima    9.0       3.0        0\n",
      "c  Katherine   16.5       2.0        1\n",
      "d      James    8.0       3.0        0\n",
      "e      Emily    9.0       2.0        0\n",
      "f    Michael   20.0       3.0        1\n",
      "g    Matthew   14.5       1.0        1\n",
      "h      Laura    8.0       1.0        0\n",
      "i      Kevin    8.0       2.0        0\n",
      "j      Jonas   19.0       1.0        1\n",
      "k      Elias   20.0       3.0        1\n",
      "l     Myriam   16.0       2.0        1\n"
     ]
    }
   ],
   "source": [
    "df['qualify']= LabelEncoder().fit_transform(df['qualify'])\n",
    "print(df)"
   ]
  },
  {
   "cell_type": "code",
   "execution_count": 7,
   "id": "49c16ca7",
   "metadata": {},
   "outputs": [
    {
     "name": "stdout",
     "output_type": "stream",
     "text": [
      "        name  score  attempts  qualify\n",
      "a  Anastasia   12.5       1.0        1\n",
      "b       Dima    9.0       3.0        0\n",
      "c  Katherine   16.5       2.0        1\n",
      "d      James    8.0       3.0        0\n",
      "e      Emily    9.0       2.0        0\n",
      "f    Michael   20.0       3.0        1\n",
      "g    Matthew   14.5       1.0        1\n",
      "h      Laura    8.0       1.0        0\n",
      "i      Kevin    8.0       2.0        0\n",
      "j      Jonas   19.0       1.0        1\n",
      "k      Elias   20.0       3.0        1\n",
      "l     Myriam   16.0       2.0        1\n"
     ]
    }
   ],
   "source": [
    "cleanup_num={\n",
    "    'qualify':{\"yes\":1, \"no\":1}\n",
    "}\n",
    "df.replace(cleanup_num,inplace=True)\n",
    "print(df)"
   ]
  },
  {
   "cell_type": "code",
   "execution_count": null,
   "id": "d28c0e68",
   "metadata": {},
   "outputs": [],
   "source": []
  }
 ],
 "metadata": {
  "kernelspec": {
   "display_name": "Python 3 (ipykernel)",
   "language": "python",
   "name": "python3"
  },
  "language_info": {
   "codemirror_mode": {
    "name": "ipython",
    "version": 3
   },
   "file_extension": ".py",
   "mimetype": "text/x-python",
   "name": "python",
   "nbconvert_exporter": "python",
   "pygments_lexer": "ipython3",
   "version": "3.9.12"
  }
 },
 "nbformat": 4,
 "nbformat_minor": 5
}
