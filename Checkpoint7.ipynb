{
 "cells": [
  {
   "cell_type": "code",
   "execution_count": 26,
   "id": "bf8d7006",
   "metadata": {},
   "outputs": [
    {
     "name": "stdout",
     "output_type": "stream",
     "text": [
      "line number 1 in file\n",
      "line number 2 in file\n",
      "line number 3 in file\n",
      "line number 4 in file\n",
      "line number 5 in file\n"
     ]
    }
   ],
   "source": [
    "f = open(\"test.txt\",'r',encoding = 'utf-8')\n",
    "print(f.read())\n",
    "f.close()"
   ]
  },
  {
   "cell_type": "code",
   "execution_count": 27,
   "id": "511221f5",
   "metadata": {},
   "outputs": [
    {
     "name": "stdout",
     "output_type": "stream",
     "text": [
      "give us a number2\n",
      "line number 1 in file\n",
      "\n",
      "line number 2 in file\n",
      "\n"
     ]
    }
   ],
   "source": [
    "f = open(\"test.txt\")\n",
    "number_of_lines = int(input(\"give us a number\"))\n",
    "\n",
    "for i in range(number_of_lines):\n",
    "    line = f.readline()\n",
    "    print(line)\n",
    "f.close()"
   ]
  },
  {
   "cell_type": "code",
   "execution_count": 28,
   "id": "d87bb9e5",
   "metadata": {},
   "outputs": [
    {
     "name": "stdout",
     "output_type": "stream",
     "text": [
      "give us a number3\n",
      "line number 3 in file\n",
      "\n",
      "line number 4 in file\n",
      "\n",
      "line number 5 in file\n"
     ]
    }
   ],
   "source": [
    "f = open(\"test.txt\")\n",
    "n = int(input(\"give us a number\"))\n",
    "for line in (f.readlines() [-n:]):\n",
    "    print(line)\n",
    "f.close()"
   ]
  },
  {
   "cell_type": "code",
   "execution_count": 29,
   "id": "affcffde",
   "metadata": {},
   "outputs": [
    {
     "name": "stdout",
     "output_type": "stream",
     "text": [
      "25\n"
     ]
    }
   ],
   "source": [
    "def count_words(filepath):\n",
    "    f = open(filepath)\n",
    "    data = f.read()\n",
    "    return len(data.split())\n",
    "    f.close()\n",
    "print(count_words(\"test.txt\"))"
   ]
  },
  {
   "cell_type": "code",
   "execution_count": null,
   "id": "d23652bf",
   "metadata": {},
   "outputs": [],
   "source": []
  }
 ],
 "metadata": {
  "kernelspec": {
   "display_name": "Python 3 (ipykernel)",
   "language": "python",
   "name": "python3"
  },
  "language_info": {
   "codemirror_mode": {
    "name": "ipython",
    "version": 3
   },
   "file_extension": ".py",
   "mimetype": "text/x-python",
   "name": "python",
   "nbconvert_exporter": "python",
   "pygments_lexer": "ipython3",
   "version": "3.9.12"
  }
 },
 "nbformat": 4,
 "nbformat_minor": 5
}
