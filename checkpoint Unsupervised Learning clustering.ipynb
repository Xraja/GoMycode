{
 "cells": [
  {
   "cell_type": "code",
   "execution_count": 25,
   "id": "4747cf5e",
   "metadata": {},
   "outputs": [
    {
     "data": {
      "text/html": [
       "<div>\n",
       "<style scoped>\n",
       "    .dataframe tbody tr th:only-of-type {\n",
       "        vertical-align: middle;\n",
       "    }\n",
       "\n",
       "    .dataframe tbody tr th {\n",
       "        vertical-align: top;\n",
       "    }\n",
       "\n",
       "    .dataframe thead th {\n",
       "        text-align: right;\n",
       "    }\n",
       "</style>\n",
       "<table border=\"1\" class=\"dataframe\">\n",
       "  <thead>\n",
       "    <tr style=\"text-align: right;\">\n",
       "      <th></th>\n",
       "      <th>CUST_ID</th>\n",
       "      <th>BALANCE</th>\n",
       "      <th>BALANCE_FREQUENCY</th>\n",
       "      <th>PURCHASES</th>\n",
       "      <th>ONEOFF_PURCHASES</th>\n",
       "      <th>INSTALLMENTS_PURCHASES</th>\n",
       "      <th>CASH_ADVANCE</th>\n",
       "      <th>PURCHASES_FREQUENCY</th>\n",
       "      <th>ONEOFF_PURCHASES_FREQUENCY</th>\n",
       "      <th>PURCHASES_INSTALLMENTS_FREQUENCY</th>\n",
       "      <th>CASH_ADVANCE_FREQUENCY</th>\n",
       "      <th>CASH_ADVANCE_TRX</th>\n",
       "      <th>PURCHASES_TRX</th>\n",
       "      <th>CREDIT_LIMIT</th>\n",
       "      <th>PAYMENTS</th>\n",
       "      <th>MINIMUM_PAYMENTS</th>\n",
       "      <th>PRC_FULL_PAYMENT</th>\n",
       "      <th>TENURE</th>\n",
       "    </tr>\n",
       "  </thead>\n",
       "  <tbody>\n",
       "    <tr>\n",
       "      <th>0</th>\n",
       "      <td>C10001</td>\n",
       "      <td>40.900749</td>\n",
       "      <td>0.818182</td>\n",
       "      <td>95.4</td>\n",
       "      <td>0.0</td>\n",
       "      <td>95.4</td>\n",
       "      <td>0.000000</td>\n",
       "      <td>0.166667</td>\n",
       "      <td>0.0</td>\n",
       "      <td>0.083333</td>\n",
       "      <td>0.00</td>\n",
       "      <td>0</td>\n",
       "      <td>2</td>\n",
       "      <td>1000.0</td>\n",
       "      <td>201.802084</td>\n",
       "      <td>139.509787</td>\n",
       "      <td>0.000000</td>\n",
       "      <td>12</td>\n",
       "    </tr>\n",
       "    <tr>\n",
       "      <th>1</th>\n",
       "      <td>C10002</td>\n",
       "      <td>3202.467416</td>\n",
       "      <td>0.909091</td>\n",
       "      <td>0.0</td>\n",
       "      <td>0.0</td>\n",
       "      <td>0.0</td>\n",
       "      <td>6442.945483</td>\n",
       "      <td>0.000000</td>\n",
       "      <td>0.0</td>\n",
       "      <td>0.000000</td>\n",
       "      <td>0.25</td>\n",
       "      <td>4</td>\n",
       "      <td>0</td>\n",
       "      <td>7000.0</td>\n",
       "      <td>4103.032597</td>\n",
       "      <td>1072.340217</td>\n",
       "      <td>0.222222</td>\n",
       "      <td>12</td>\n",
       "    </tr>\n",
       "  </tbody>\n",
       "</table>\n",
       "</div>"
      ],
      "text/plain": [
       "  CUST_ID      BALANCE  BALANCE_FREQUENCY  PURCHASES  ONEOFF_PURCHASES  \\\n",
       "0  C10001    40.900749           0.818182       95.4               0.0   \n",
       "1  C10002  3202.467416           0.909091        0.0               0.0   \n",
       "\n",
       "   INSTALLMENTS_PURCHASES  CASH_ADVANCE  PURCHASES_FREQUENCY  \\\n",
       "0                    95.4      0.000000             0.166667   \n",
       "1                     0.0   6442.945483             0.000000   \n",
       "\n",
       "   ONEOFF_PURCHASES_FREQUENCY  PURCHASES_INSTALLMENTS_FREQUENCY  \\\n",
       "0                         0.0                          0.083333   \n",
       "1                         0.0                          0.000000   \n",
       "\n",
       "   CASH_ADVANCE_FREQUENCY  CASH_ADVANCE_TRX  PURCHASES_TRX  CREDIT_LIMIT  \\\n",
       "0                    0.00                 0              2        1000.0   \n",
       "1                    0.25                 4              0        7000.0   \n",
       "\n",
       "      PAYMENTS  MINIMUM_PAYMENTS  PRC_FULL_PAYMENT  TENURE  \n",
       "0   201.802084        139.509787          0.000000      12  \n",
       "1  4103.032597       1072.340217          0.222222      12  "
      ]
     },
     "execution_count": 25,
     "metadata": {},
     "output_type": "execute_result"
    }
   ],
   "source": [
    "import pandas as pd\n",
    "import numpy as np\n",
    "df=pd.read_csv('C:/Users/H.A/Downloads/CC GENERAL.csv')\n",
    "df.head(2)"
   ]
  },
  {
   "cell_type": "code",
   "execution_count": 26,
   "id": "1e65e7f6",
   "metadata": {},
   "outputs": [
    {
     "data": {
      "text/plain": [
       "CUST_ID                               0\n",
       "BALANCE                               0\n",
       "BALANCE_FREQUENCY                     0\n",
       "PURCHASES                             0\n",
       "ONEOFF_PURCHASES                      0\n",
       "INSTALLMENTS_PURCHASES                0\n",
       "CASH_ADVANCE                          0\n",
       "PURCHASES_FREQUENCY                   0\n",
       "ONEOFF_PURCHASES_FREQUENCY            0\n",
       "PURCHASES_INSTALLMENTS_FREQUENCY      0\n",
       "CASH_ADVANCE_FREQUENCY                0\n",
       "CASH_ADVANCE_TRX                      0\n",
       "PURCHASES_TRX                         0\n",
       "CREDIT_LIMIT                          1\n",
       "PAYMENTS                              0\n",
       "MINIMUM_PAYMENTS                    313\n",
       "PRC_FULL_PAYMENT                      0\n",
       "TENURE                                0\n",
       "dtype: int64"
      ]
     },
     "execution_count": 26,
     "metadata": {},
     "output_type": "execute_result"
    }
   ],
   "source": [
    "df.isnull().sum()"
   ]
  },
  {
   "cell_type": "code",
   "execution_count": 27,
   "id": "9c06c6ca",
   "metadata": {},
   "outputs": [
    {
     "name": "stdout",
     "output_type": "stream",
     "text": [
      "<class 'pandas.core.frame.DataFrame'>\n",
      "RangeIndex: 8950 entries, 0 to 8949\n",
      "Data columns (total 18 columns):\n",
      " #   Column                            Non-Null Count  Dtype  \n",
      "---  ------                            --------------  -----  \n",
      " 0   CUST_ID                           8950 non-null   object \n",
      " 1   BALANCE                           8950 non-null   float64\n",
      " 2   BALANCE_FREQUENCY                 8950 non-null   float64\n",
      " 3   PURCHASES                         8950 non-null   float64\n",
      " 4   ONEOFF_PURCHASES                  8950 non-null   float64\n",
      " 5   INSTALLMENTS_PURCHASES            8950 non-null   float64\n",
      " 6   CASH_ADVANCE                      8950 non-null   float64\n",
      " 7   PURCHASES_FREQUENCY               8950 non-null   float64\n",
      " 8   ONEOFF_PURCHASES_FREQUENCY        8950 non-null   float64\n",
      " 9   PURCHASES_INSTALLMENTS_FREQUENCY  8950 non-null   float64\n",
      " 10  CASH_ADVANCE_FREQUENCY            8950 non-null   float64\n",
      " 11  CASH_ADVANCE_TRX                  8950 non-null   int64  \n",
      " 12  PURCHASES_TRX                     8950 non-null   int64  \n",
      " 13  CREDIT_LIMIT                      8949 non-null   float64\n",
      " 14  PAYMENTS                          8950 non-null   float64\n",
      " 15  MINIMUM_PAYMENTS                  8637 non-null   float64\n",
      " 16  PRC_FULL_PAYMENT                  8950 non-null   float64\n",
      " 17  TENURE                            8950 non-null   int64  \n",
      "dtypes: float64(14), int64(3), object(1)\n",
      "memory usage: 1.2+ MB\n"
     ]
    }
   ],
   "source": [
    "df.info()"
   ]
  },
  {
   "cell_type": "code",
   "execution_count": 28,
   "id": "cb80f79c",
   "metadata": {},
   "outputs": [],
   "source": [
    "df['MINIMUM_PAYMENTS'].fillna(df['MINIMUM_PAYMENTS'].mean(),inplace=True)\n",
    "df['CREDIT_LIMIT'].fillna(df['CREDIT_LIMIT'].max(),inplace=True)"
   ]
  },
  {
   "cell_type": "code",
   "execution_count": 29,
   "id": "dd4b9d57",
   "metadata": {},
   "outputs": [
    {
     "data": {
      "text/plain": [
       "CUST_ID                             0\n",
       "BALANCE                             0\n",
       "BALANCE_FREQUENCY                   0\n",
       "PURCHASES                           0\n",
       "ONEOFF_PURCHASES                    0\n",
       "INSTALLMENTS_PURCHASES              0\n",
       "CASH_ADVANCE                        0\n",
       "PURCHASES_FREQUENCY                 0\n",
       "ONEOFF_PURCHASES_FREQUENCY          0\n",
       "PURCHASES_INSTALLMENTS_FREQUENCY    0\n",
       "CASH_ADVANCE_FREQUENCY              0\n",
       "CASH_ADVANCE_TRX                    0\n",
       "PURCHASES_TRX                       0\n",
       "CREDIT_LIMIT                        0\n",
       "PAYMENTS                            0\n",
       "MINIMUM_PAYMENTS                    0\n",
       "PRC_FULL_PAYMENT                    0\n",
       "TENURE                              0\n",
       "dtype: int64"
      ]
     },
     "execution_count": 29,
     "metadata": {},
     "output_type": "execute_result"
    }
   ],
   "source": [
    "df.isnull().sum()"
   ]
  },
  {
   "cell_type": "code",
   "execution_count": 30,
   "id": "add148ba",
   "metadata": {},
   "outputs": [
    {
     "name": "stdout",
     "output_type": "stream",
     "text": [
      "<class 'pandas.core.frame.DataFrame'>\n",
      "RangeIndex: 8950 entries, 0 to 8949\n",
      "Data columns (total 18 columns):\n",
      " #   Column                            Non-Null Count  Dtype  \n",
      "---  ------                            --------------  -----  \n",
      " 0   CUST_ID                           8950 non-null   int32  \n",
      " 1   BALANCE                           8950 non-null   float64\n",
      " 2   BALANCE_FREQUENCY                 8950 non-null   float64\n",
      " 3   PURCHASES                         8950 non-null   float64\n",
      " 4   ONEOFF_PURCHASES                  8950 non-null   float64\n",
      " 5   INSTALLMENTS_PURCHASES            8950 non-null   float64\n",
      " 6   CASH_ADVANCE                      8950 non-null   float64\n",
      " 7   PURCHASES_FREQUENCY               8950 non-null   float64\n",
      " 8   ONEOFF_PURCHASES_FREQUENCY        8950 non-null   float64\n",
      " 9   PURCHASES_INSTALLMENTS_FREQUENCY  8950 non-null   float64\n",
      " 10  CASH_ADVANCE_FREQUENCY            8950 non-null   float64\n",
      " 11  CASH_ADVANCE_TRX                  8950 non-null   int64  \n",
      " 12  PURCHASES_TRX                     8950 non-null   int64  \n",
      " 13  CREDIT_LIMIT                      8950 non-null   float64\n",
      " 14  PAYMENTS                          8950 non-null   float64\n",
      " 15  MINIMUM_PAYMENTS                  8950 non-null   float64\n",
      " 16  PRC_FULL_PAYMENT                  8950 non-null   float64\n",
      " 17  TENURE                            8950 non-null   int64  \n",
      "dtypes: float64(14), int32(1), int64(3)\n",
      "memory usage: 1.2 MB\n"
     ]
    }
   ],
   "source": [
    "from sklearn.preprocessing import LabelEncoder\n",
    "df['CUST_ID']=LabelEncoder().fit_transform(df['CUST_ID'])\n",
    "df.info()"
   ]
  },
  {
   "cell_type": "code",
   "execution_count": 31,
   "id": "0488e6d1",
   "metadata": {},
   "outputs": [
    {
     "data": {
      "text/html": [
       "<div>\n",
       "<style scoped>\n",
       "    .dataframe tbody tr th:only-of-type {\n",
       "        vertical-align: middle;\n",
       "    }\n",
       "\n",
       "    .dataframe tbody tr th {\n",
       "        vertical-align: top;\n",
       "    }\n",
       "\n",
       "    .dataframe thead th {\n",
       "        text-align: right;\n",
       "    }\n",
       "</style>\n",
       "<table border=\"1\" class=\"dataframe\">\n",
       "  <thead>\n",
       "    <tr style=\"text-align: right;\">\n",
       "      <th></th>\n",
       "      <th>0</th>\n",
       "      <th>1</th>\n",
       "      <th>2</th>\n",
       "      <th>3</th>\n",
       "      <th>4</th>\n",
       "      <th>5</th>\n",
       "      <th>6</th>\n",
       "      <th>7</th>\n",
       "      <th>8</th>\n",
       "      <th>9</th>\n",
       "      <th>10</th>\n",
       "      <th>11</th>\n",
       "      <th>12</th>\n",
       "      <th>13</th>\n",
       "      <th>14</th>\n",
       "      <th>15</th>\n",
       "      <th>16</th>\n",
       "      <th>17</th>\n",
       "    </tr>\n",
       "  </thead>\n",
       "  <tbody>\n",
       "    <tr>\n",
       "      <th>0</th>\n",
       "      <td>-0.495003</td>\n",
       "      <td>-0.209219</td>\n",
       "      <td>-0.071294</td>\n",
       "      <td>-0.121446</td>\n",
       "      <td>-0.102020</td>\n",
       "      <td>-0.099774</td>\n",
       "      <td>-0.133417</td>\n",
       "      <td>-0.230513</td>\n",
       "      <td>-0.193976</td>\n",
       "      <td>-0.202166</td>\n",
       "      <td>-0.193029</td>\n",
       "      <td>-0.136071</td>\n",
       "      <td>0.571644</td>\n",
       "      <td>-0.273986</td>\n",
       "      <td>-0.151194</td>\n",
       "      <td>-8.888131e-02</td>\n",
       "      <td>-0.150214</td>\n",
       "      <td>0.103090</td>\n",
       "    </tr>\n",
       "    <tr>\n",
       "      <th>1</th>\n",
       "      <td>-0.440528</td>\n",
       "      <td>0.200222</td>\n",
       "      <td>0.034175</td>\n",
       "      <td>-0.119465</td>\n",
       "      <td>-0.090813</td>\n",
       "      <td>-0.115655</td>\n",
       "      <td>0.662929</td>\n",
       "      <td>-0.310845</td>\n",
       "      <td>-0.172668</td>\n",
       "      <td>-0.233306</td>\n",
       "      <td>0.146030</td>\n",
       "      <td>0.028005</td>\n",
       "      <td>0.000000</td>\n",
       "      <td>0.174529</td>\n",
       "      <td>0.208282</td>\n",
       "      <td>2.272267e-02</td>\n",
       "      <td>0.059593</td>\n",
       "      <td>0.091766</td>\n",
       "    </tr>\n",
       "    <tr>\n",
       "      <th>2</th>\n",
       "      <td>-0.137095</td>\n",
       "      <td>0.035411</td>\n",
       "      <td>0.041030</td>\n",
       "      <td>-0.008527</td>\n",
       "      <td>0.008624</td>\n",
       "      <td>-0.036001</td>\n",
       "      <td>-0.036968</td>\n",
       "      <td>0.100567</td>\n",
       "      <td>0.211727</td>\n",
       "      <td>-0.072623</td>\n",
       "      <td>-0.053485</td>\n",
       "      <td>-0.037703</td>\n",
       "      <td>0.950355</td>\n",
       "      <td>0.065180</td>\n",
       "      <td>-0.030396</td>\n",
       "      <td>-8.051340e-03</td>\n",
       "      <td>-0.041622</td>\n",
       "      <td>0.028564</td>\n",
       "    </tr>\n",
       "    <tr>\n",
       "      <th>3</th>\n",
       "      <td>-0.565299</td>\n",
       "      <td>0.016037</td>\n",
       "      <td>-0.332168</td>\n",
       "      <td>0.075797</td>\n",
       "      <td>0.178402</td>\n",
       "      <td>-0.148479</td>\n",
       "      <td>-0.120414</td>\n",
       "      <td>-0.331245</td>\n",
       "      <td>-0.130430</td>\n",
       "      <td>-0.299519</td>\n",
       "      <td>-0.084569</td>\n",
       "      <td>-0.107636</td>\n",
       "      <td>0.326631</td>\n",
       "      <td>0.268825</td>\n",
       "      <td>-0.195550</td>\n",
       "      <td>-1.434066e-16</td>\n",
       "      <td>-0.171661</td>\n",
       "      <td>0.117809</td>\n",
       "    </tr>\n",
       "    <tr>\n",
       "      <th>4</th>\n",
       "      <td>-0.567764</td>\n",
       "      <td>-0.117724</td>\n",
       "      <td>0.169998</td>\n",
       "      <td>-0.151616</td>\n",
       "      <td>-0.113957</td>\n",
       "      <td>-0.149160</td>\n",
       "      <td>-0.153166</td>\n",
       "      <td>-0.332764</td>\n",
       "      <td>-0.131028</td>\n",
       "      <td>-0.300892</td>\n",
       "      <td>-0.221601</td>\n",
       "      <td>-0.156212</td>\n",
       "      <td>0.328129</td>\n",
       "      <td>-0.296553</td>\n",
       "      <td>-0.119560</td>\n",
       "      <td>-8.721374e-02</td>\n",
       "      <td>-0.172448</td>\n",
       "      <td>0.118349</td>\n",
       "    </tr>\n",
       "    <tr>\n",
       "      <th>...</th>\n",
       "      <td>...</td>\n",
       "      <td>...</td>\n",
       "      <td>...</td>\n",
       "      <td>...</td>\n",
       "      <td>...</td>\n",
       "      <td>...</td>\n",
       "      <td>...</td>\n",
       "      <td>...</td>\n",
       "      <td>...</td>\n",
       "      <td>...</td>\n",
       "      <td>...</td>\n",
       "      <td>...</td>\n",
       "      <td>...</td>\n",
       "      <td>...</td>\n",
       "      <td>...</td>\n",
       "      <td>...</td>\n",
       "      <td>...</td>\n",
       "      <td>...</td>\n",
       "    </tr>\n",
       "    <tr>\n",
       "      <th>8945</th>\n",
       "      <td>0.216111</td>\n",
       "      <td>-0.092168</td>\n",
       "      <td>0.064707</td>\n",
       "      <td>-0.041627</td>\n",
       "      <td>-0.044580</td>\n",
       "      <td>-0.016567</td>\n",
       "      <td>-0.058300</td>\n",
       "      <td>0.158600</td>\n",
       "      <td>-0.084763</td>\n",
       "      <td>0.147358</td>\n",
       "      <td>-0.084349</td>\n",
       "      <td>-0.059460</td>\n",
       "      <td>0.749383</td>\n",
       "      <td>-0.119725</td>\n",
       "      <td>-0.060727</td>\n",
       "      <td>-4.369580e-02</td>\n",
       "      <td>0.147872</td>\n",
       "      <td>-0.514922</td>\n",
       "    </tr>\n",
       "    <tr>\n",
       "      <th>8946</th>\n",
       "      <td>0.218260</td>\n",
       "      <td>-0.093628</td>\n",
       "      <td>0.065336</td>\n",
       "      <td>-0.041508</td>\n",
       "      <td>-0.045013</td>\n",
       "      <td>-0.015489</td>\n",
       "      <td>-0.058867</td>\n",
       "      <td>0.160141</td>\n",
       "      <td>-0.085587</td>\n",
       "      <td>0.148790</td>\n",
       "      <td>-0.085169</td>\n",
       "      <td>-0.060038</td>\n",
       "      <td>0.756667</td>\n",
       "      <td>-0.120889</td>\n",
       "      <td>-0.063484</td>\n",
       "      <td>-5.536878e-17</td>\n",
       "      <td>-0.066278</td>\n",
       "      <td>-0.519927</td>\n",
       "    </tr>\n",
       "    <tr>\n",
       "      <th>8947</th>\n",
       "      <td>0.244598</td>\n",
       "      <td>-0.104616</td>\n",
       "      <td>-0.026207</td>\n",
       "      <td>-0.056797</td>\n",
       "      <td>-0.050434</td>\n",
       "      <td>-0.041668</td>\n",
       "      <td>-0.065956</td>\n",
       "      <td>0.120749</td>\n",
       "      <td>-0.095893</td>\n",
       "      <td>0.107452</td>\n",
       "      <td>-0.095425</td>\n",
       "      <td>-0.067268</td>\n",
       "      <td>0.706488</td>\n",
       "      <td>-0.135446</td>\n",
       "      <td>-0.080626</td>\n",
       "      <td>-4.740047e-02</td>\n",
       "      <td>0.046515</td>\n",
       "      <td>-0.582537</td>\n",
       "    </tr>\n",
       "    <tr>\n",
       "      <th>8948</th>\n",
       "      <td>0.339831</td>\n",
       "      <td>-0.146253</td>\n",
       "      <td>-0.036403</td>\n",
       "      <td>-0.092158</td>\n",
       "      <td>-0.070055</td>\n",
       "      <td>-0.089218</td>\n",
       "      <td>-0.088193</td>\n",
       "      <td>-0.239791</td>\n",
       "      <td>-0.133199</td>\n",
       "      <td>-0.179976</td>\n",
       "      <td>0.030917</td>\n",
       "      <td>-0.035917</td>\n",
       "      <td>0.000000</td>\n",
       "      <td>-0.215038</td>\n",
       "      <td>-0.113940</td>\n",
       "      <td>-6.808643e-02</td>\n",
       "      <td>0.064611</td>\n",
       "      <td>-0.809165</td>\n",
       "    </tr>\n",
       "    <tr>\n",
       "      <th>8949</th>\n",
       "      <td>0.073408</td>\n",
       "      <td>-0.024270</td>\n",
       "      <td>-0.037684</td>\n",
       "      <td>0.001786</td>\n",
       "      <td>0.012790</td>\n",
       "      <td>-0.019268</td>\n",
       "      <td>-0.017218</td>\n",
       "      <td>0.018621</td>\n",
       "      <td>0.065958</td>\n",
       "      <td>-0.038869</td>\n",
       "      <td>0.041980</td>\n",
       "      <td>-0.007757</td>\n",
       "      <td>0.974904</td>\n",
       "      <td>-0.038308</td>\n",
       "      <td>-0.024452</td>\n",
       "      <td>-1.411264e-02</td>\n",
       "      <td>-0.022277</td>\n",
       "      <td>-0.174752</td>\n",
       "    </tr>\n",
       "  </tbody>\n",
       "</table>\n",
       "<p>8950 rows × 18 columns</p>\n",
       "</div>"
      ],
      "text/plain": [
       "            0         1         2         3         4         5         6   \\\n",
       "0    -0.495003 -0.209219 -0.071294 -0.121446 -0.102020 -0.099774 -0.133417   \n",
       "1    -0.440528  0.200222  0.034175 -0.119465 -0.090813 -0.115655  0.662929   \n",
       "2    -0.137095  0.035411  0.041030 -0.008527  0.008624 -0.036001 -0.036968   \n",
       "3    -0.565299  0.016037 -0.332168  0.075797  0.178402 -0.148479 -0.120414   \n",
       "4    -0.567764 -0.117724  0.169998 -0.151616 -0.113957 -0.149160 -0.153166   \n",
       "...        ...       ...       ...       ...       ...       ...       ...   \n",
       "8945  0.216111 -0.092168  0.064707 -0.041627 -0.044580 -0.016567 -0.058300   \n",
       "8946  0.218260 -0.093628  0.065336 -0.041508 -0.045013 -0.015489 -0.058867   \n",
       "8947  0.244598 -0.104616 -0.026207 -0.056797 -0.050434 -0.041668 -0.065956   \n",
       "8948  0.339831 -0.146253 -0.036403 -0.092158 -0.070055 -0.089218 -0.088193   \n",
       "8949  0.073408 -0.024270 -0.037684  0.001786  0.012790 -0.019268 -0.017218   \n",
       "\n",
       "            7         8         9         10        11        12        13  \\\n",
       "0    -0.230513 -0.193976 -0.202166 -0.193029 -0.136071  0.571644 -0.273986   \n",
       "1    -0.310845 -0.172668 -0.233306  0.146030  0.028005  0.000000  0.174529   \n",
       "2     0.100567  0.211727 -0.072623 -0.053485 -0.037703  0.950355  0.065180   \n",
       "3    -0.331245 -0.130430 -0.299519 -0.084569 -0.107636  0.326631  0.268825   \n",
       "4    -0.332764 -0.131028 -0.300892 -0.221601 -0.156212  0.328129 -0.296553   \n",
       "...        ...       ...       ...       ...       ...       ...       ...   \n",
       "8945  0.158600 -0.084763  0.147358 -0.084349 -0.059460  0.749383 -0.119725   \n",
       "8946  0.160141 -0.085587  0.148790 -0.085169 -0.060038  0.756667 -0.120889   \n",
       "8947  0.120749 -0.095893  0.107452 -0.095425 -0.067268  0.706488 -0.135446   \n",
       "8948 -0.239791 -0.133199 -0.179976  0.030917 -0.035917  0.000000 -0.215038   \n",
       "8949  0.018621  0.065958 -0.038869  0.041980 -0.007757  0.974904 -0.038308   \n",
       "\n",
       "            14            15        16        17  \n",
       "0    -0.151194 -8.888131e-02 -0.150214  0.103090  \n",
       "1     0.208282  2.272267e-02  0.059593  0.091766  \n",
       "2    -0.030396 -8.051340e-03 -0.041622  0.028564  \n",
       "3    -0.195550 -1.434066e-16 -0.171661  0.117809  \n",
       "4    -0.119560 -8.721374e-02 -0.172448  0.118349  \n",
       "...        ...           ...       ...       ...  \n",
       "8945 -0.060727 -4.369580e-02  0.147872 -0.514922  \n",
       "8946 -0.063484 -5.536878e-17 -0.066278 -0.519927  \n",
       "8947 -0.080626 -4.740047e-02  0.046515 -0.582537  \n",
       "8948 -0.113940 -6.808643e-02  0.064611 -0.809165  \n",
       "8949 -0.024452 -1.411264e-02 -0.022277 -0.174752  \n",
       "\n",
       "[8950 rows x 18 columns]"
      ]
     },
     "execution_count": 31,
     "metadata": {},
     "output_type": "execute_result"
    }
   ],
   "source": [
    "from sklearn.preprocessing import StandardScaler,normalize\n",
    "features = ['CUST_ID','BALANCE','BALANCE_FREQUENCY','PURCHASES','ONEOFF_PURCHASES','INSTALLMENTS_PURCHASES','CASH_ADVANCE','PURCHASES_FREQUENCY','ONEOFF_PURCHASES_FREQUENCY','PURCHASES_INSTALLMENTS_FREQUENCY','CASH_ADVANCE_FREQUENCY','CASH_ADVANCE_TRX','CREDIT_LIMIT','PAYMENTS','MINIMUM_PAYMENTS','PRC_FULL_PAYMENT','TENURE']\n",
    "scaler=StandardScaler()\n",
    "df[features] =scaler.fit_transform(df[features])\n",
    "normalized_df = normalize(df)\n",
    "normalized_df = pd.DataFrame(normalized_df)\n",
    "normalized_df"
   ]
  },
  {
   "cell_type": "code",
   "execution_count": 32,
   "id": "be1f7eba",
   "metadata": {},
   "outputs": [
    {
     "data": {
      "text/html": [
       "<div>\n",
       "<style scoped>\n",
       "    .dataframe tbody tr th:only-of-type {\n",
       "        vertical-align: middle;\n",
       "    }\n",
       "\n",
       "    .dataframe tbody tr th {\n",
       "        vertical-align: top;\n",
       "    }\n",
       "\n",
       "    .dataframe thead th {\n",
       "        text-align: right;\n",
       "    }\n",
       "</style>\n",
       "<table border=\"1\" class=\"dataframe\">\n",
       "  <thead>\n",
       "    <tr style=\"text-align: right;\">\n",
       "      <th></th>\n",
       "      <th>P1</th>\n",
       "      <th>P2</th>\n",
       "    </tr>\n",
       "  </thead>\n",
       "  <tbody>\n",
       "    <tr>\n",
       "      <th>0</th>\n",
       "      <td>0.162493</td>\n",
       "      <td>-0.347887</td>\n",
       "    </tr>\n",
       "    <tr>\n",
       "      <th>1</th>\n",
       "      <td>0.730206</td>\n",
       "      <td>0.544363</td>\n",
       "    </tr>\n",
       "  </tbody>\n",
       "</table>\n",
       "</div>"
      ],
      "text/plain": [
       "         P1        P2\n",
       "0  0.162493 -0.347887\n",
       "1  0.730206  0.544363"
      ]
     },
     "execution_count": 32,
     "metadata": {},
     "output_type": "execute_result"
    }
   ],
   "source": [
    "from sklearn.decomposition import PCA\n",
    "\n",
    "pca = PCA(n_components = 2) \n",
    "X_principal = pca.fit_transform(normalized_df) \n",
    "X_principal = pd.DataFrame(X_principal) \n",
    "X_principal.columns = ['P1', 'P2'] \n",
    "\n",
    "X_principal.head(2)"
   ]
  },
  {
   "cell_type": "code",
   "execution_count": 36,
   "id": "cfdef1d9",
   "metadata": {},
   "outputs": [
    {
     "name": "stdout",
     "output_type": "stream",
     "text": [
      "[0.6322506999780152, 0.5962670782186306, 0.6091584574778374, 0.5859100254988763, 0.5137271314124993, 0.5090361138822472]\n"
     ]
    }
   ],
   "source": [
    "# finding the optimal number of cluster \n",
    "from sklearn.metrics import silhouette_score\n",
    "silhouette_scores = [] \n",
    "\n",
    "for n_cluster in range(2, 8):\n",
    "    silhouette_scores.append( \n",
    "        silhouette_score(X_principal, AgglomerativeClustering(n_clusters = n_cluster).fit_predict(X_principal)))\n",
    "print(silhouette_scores)"
   ]
  },
  {
   "cell_type": "code",
   "execution_count": 37,
   "id": "b78e9a81",
   "metadata": {},
   "outputs": [
    {
     "data": {
      "image/png": "[encoded data removed]",
      "text/plain": [
       "<Figure size 432x288 with 1 Axes>"
      ]
     },
     "metadata": {
      "needs_background": "light"
     },
     "output_type": "display_data"
    }
   ],
   "source": [
    "k = [2, 3, 4, 5, 6,7] \n",
    "plt.bar(k, silhouette_scores) \n",
    "plt.xlabel('Number of clusters', fontsize = 10) \n",
    "plt.ylabel('Silhouette Score', fontsize = 10) \n",
    "plt.show()"
   ]
  },
  {
   "cell_type": "code",
   "execution_count": 46,
   "id": "bb151a9f",
   "metadata": {},
   "outputs": [
    {
     "data": {
      "text/html": [
       "<div>\n",
       "<style scoped>\n",
       "    .dataframe tbody tr th:only-of-type {\n",
       "        vertical-align: middle;\n",
       "    }\n",
       "\n",
       "    .dataframe tbody tr th {\n",
       "        vertical-align: top;\n",
       "    }\n",
       "\n",
       "    .dataframe thead th {\n",
       "        text-align: right;\n",
       "    }\n",
       "</style>\n",
       "<table border=\"1\" class=\"dataframe\">\n",
       "  <thead>\n",
       "    <tr style=\"text-align: right;\">\n",
       "      <th></th>\n",
       "      <th>0</th>\n",
       "    </tr>\n",
       "  </thead>\n",
       "  <tbody>\n",
       "    <tr>\n",
       "      <th>0</th>\n",
       "      <td>0</td>\n",
       "    </tr>\n",
       "    <tr>\n",
       "      <th>1</th>\n",
       "      <td>2</td>\n",
       "    </tr>\n",
       "    <tr>\n",
       "      <th>2</th>\n",
       "      <td>1</td>\n",
       "    </tr>\n",
       "    <tr>\n",
       "      <th>3</th>\n",
       "      <td>0</td>\n",
       "    </tr>\n",
       "    <tr>\n",
       "      <th>4</th>\n",
       "      <td>0</td>\n",
       "    </tr>\n",
       "    <tr>\n",
       "      <th>5</th>\n",
       "      <td>3</td>\n",
       "    </tr>\n",
       "    <tr>\n",
       "      <th>6</th>\n",
       "      <td>3</td>\n",
       "    </tr>\n",
       "    <tr>\n",
       "      <th>7</th>\n",
       "      <td>3</td>\n",
       "    </tr>\n",
       "    <tr>\n",
       "      <th>8</th>\n",
       "      <td>3</td>\n",
       "    </tr>\n",
       "    <tr>\n",
       "      <th>9</th>\n",
       "      <td>3</td>\n",
       "    </tr>\n",
       "  </tbody>\n",
       "</table>\n",
       "</div>"
      ],
      "text/plain": [
       "   0\n",
       "0  0\n",
       "1  2\n",
       "2  1\n",
       "3  0\n",
       "4  0\n",
       "5  3\n",
       "6  3\n",
       "7  3\n",
       "8  3\n",
       "9  3"
      ]
     },
     "execution_count": 46,
     "metadata": {},
     "output_type": "execute_result"
    }
   ],
   "source": [
    "from sklearn.cluster import AgglomerativeClustering #Importing our clustering algorithm : Agglomerative\n",
    "model=AgglomerativeClustering(n_clusters=4, affinity='euclidean', linkage='complete')\n",
    "clust_labels=model.fit_predict(X_principal)  #Applying agglomerative algorithm with 5 clusters, using euclidean distance as a metric\n",
    "\n",
    "\n",
    "agglomerative=pd.DataFrame(clust_labels)\n",
    "agglomerative.head(10)"
   ]
  },
  {
   "cell_type": "code",
   "execution_count": 39,
   "id": "23c3161f",
   "metadata": {},
   "outputs": [
    {
     "data": {
      "image/png": "[encoded data removed]",
      "text/plain": [
       "<Figure size 432x288 with 1 Axes>"
      ]
     },
     "metadata": {
      "needs_background": "light"
     },
     "output_type": "display_data"
    }
   ],
   "source": [
    "import matplotlib.pyplot as plt\n",
    "plt.scatter(X_principal['P1'], X_principal['P2'],\n",
    "           c = AgglomerativeClustering(n_clusters = 4).fit_predict(X_principal), cmap =plt.cm.winter) \n",
    "plt.show()"
   ]
  },
  {
   "cell_type": "code",
   "execution_count": 47,
   "id": "386d3665",
   "metadata": {},
   "outputs": [
    {
     "data": {
      "text/plain": [
       "KMeans(n_clusters=4, random_state=0)"
      ]
     },
     "execution_count": 47,
     "metadata": {},
     "output_type": "execute_result"
    }
   ],
   "source": [
    "from sklearn.cluster import KMeans  #Importing our clustering algorithm: KMeans\n",
    "kmeans=KMeans(n_clusters=4, random_state=0)  #Cluster our data by choosing 5 as number of clusters\n",
    "kmeans.fit(X_principal)"
   ]
  },
  {
   "cell_type": "code",
   "execution_count": 48,
   "id": "03f9d338",
   "metadata": {},
   "outputs": [
    {
     "data": {
      "text/html": [
       "<div>\n",
       "<style scoped>\n",
       "    .dataframe tbody tr th:only-of-type {\n",
       "        vertical-align: middle;\n",
       "    }\n",
       "\n",
       "    .dataframe tbody tr th {\n",
       "        vertical-align: top;\n",
       "    }\n",
       "\n",
       "    .dataframe thead th {\n",
       "        text-align: right;\n",
       "    }\n",
       "</style>\n",
       "<table border=\"1\" class=\"dataframe\">\n",
       "  <thead>\n",
       "    <tr style=\"text-align: right;\">\n",
       "      <th></th>\n",
       "      <th>0</th>\n",
       "    </tr>\n",
       "  </thead>\n",
       "  <tbody>\n",
       "    <tr>\n",
       "      <th>0</th>\n",
       "      <td>2</td>\n",
       "    </tr>\n",
       "    <tr>\n",
       "      <th>1</th>\n",
       "      <td>0</td>\n",
       "    </tr>\n",
       "    <tr>\n",
       "      <th>2</th>\n",
       "      <td>1</td>\n",
       "    </tr>\n",
       "    <tr>\n",
       "      <th>3</th>\n",
       "      <td>2</td>\n",
       "    </tr>\n",
       "    <tr>\n",
       "      <th>4</th>\n",
       "      <td>2</td>\n",
       "    </tr>\n",
       "    <tr>\n",
       "      <th>...</th>\n",
       "      <td>...</td>\n",
       "    </tr>\n",
       "    <tr>\n",
       "      <th>8945</th>\n",
       "      <td>1</td>\n",
       "    </tr>\n",
       "    <tr>\n",
       "      <th>8946</th>\n",
       "      <td>1</td>\n",
       "    </tr>\n",
       "    <tr>\n",
       "      <th>8947</th>\n",
       "      <td>1</td>\n",
       "    </tr>\n",
       "    <tr>\n",
       "      <th>8948</th>\n",
       "      <td>3</td>\n",
       "    </tr>\n",
       "    <tr>\n",
       "      <th>8949</th>\n",
       "      <td>1</td>\n",
       "    </tr>\n",
       "  </tbody>\n",
       "</table>\n",
       "<p>8950 rows × 1 columns</p>\n",
       "</div>"
      ],
      "text/plain": [
       "      0\n",
       "0     2\n",
       "1     0\n",
       "2     1\n",
       "3     2\n",
       "4     2\n",
       "...  ..\n",
       "8945  1\n",
       "8946  1\n",
       "8947  1\n",
       "8948  3\n",
       "8949  1\n",
       "\n",
       "[8950 rows x 1 columns]"
      ]
     },
     "execution_count": 48,
     "metadata": {},
     "output_type": "execute_result"
    }
   ],
   "source": [
    "labels=pd.DataFrame(kmeans.labels_)\n",
    "labels"
   ]
  },
  {
   "cell_type": "code",
   "execution_count": 49,
   "id": "19d548af",
   "metadata": {},
   "outputs": [
    {
     "name": "stdout",
     "output_type": "stream",
     "text": [
      "[[ 0.68090042  0.46216837]\n",
      " [-0.35880632  0.02588488]\n",
      " [ 0.224884   -0.3957188 ]\n",
      " [ 0.80424809 -0.19128862]]\n"
     ]
    }
   ],
   "source": [
    "kmeans.predict(X_principal)\n",
    "print(kmeans.cluster_centers_)"
   ]
  },
  {
   "cell_type": "code",
   "execution_count": 52,
   "id": "915440b2",
   "metadata": {},
   "outputs": [
    {
     "data": {
      "image/png": "[encoded data removed]",
      "text/plain": [
       "<Figure size 720x504 with 1 Axes>"
      ]
     },
     "metadata": {
      "needs_background": "light"
     },
     "output_type": "display_data"
    }
   ],
   "source": [
    "import matplotlib.pyplot as plt\n",
    "import scipy.cluster.hierarchy as shc\n",
    "plt.figure(figsize=(10,7))\n",
    "plt.title(\"Customer Dendrograms\")\n",
    "dend=shc.dendrogram(shc.linkage(X_principal, method=\"complete\"))"
   ]
  },
  {
   "cell_type": "code",
   "execution_count": 53,
   "id": "b23e0ab3",
   "metadata": {},
   "outputs": [],
   "source": [
    "Sum_of_squared_distances=[]\n",
    "K= range(1,15)\n",
    "for k in K:\n",
    "    Km =KMeans(n_clusters=k)\n",
    "    km =Km.fit(X_principal)\n",
    "    Sum_of_squared_distances.append(km.inertia_)\n",
    "    "
   ]
  },
  {
   "cell_type": "code",
   "execution_count": 55,
   "id": "eee849ee",
   "metadata": {},
   "outputs": [
    {
     "data": {
      "image/png": "[encoded data removed]",
      "text/plain": [
       "<Figure size 432x288 with 1 Axes>"
      ]
     },
     "metadata": {
      "needs_background": "light"
     },
     "output_type": "display_data"
    }
   ],
   "source": [
    "plt.plot(K,Sum_of_squared_distances,'bx-')\n",
    "plt.xlabel('k')\n",
    "plt.ylabel('Sum_of_squared_distances')\n",
    "plt.title('Elbow Method For Optimql K')\n",
    "plt.show()"
   ]
  },
  {
   "cell_type": "code",
   "execution_count": 56,
   "id": "ba1f4e47",
   "metadata": {},
   "outputs": [
    {
     "name": "stdout",
     "output_type": "stream",
     "text": [
      "the best value of k is 4\n"
     ]
    }
   ],
   "source": [
    "print('the best value of k is 4')"
   ]
  },
  {
   "cell_type": "code",
   "execution_count": 57,
   "id": "d4b724aa",
   "metadata": {},
   "outputs": [
    {
     "data": {
      "image/png": "[encoded data removed]",
      "text/plain": [
       "<Figure size 432x288 with 1 Axes>"
      ]
     },
     "metadata": {
      "needs_background": "light"
     },
     "output_type": "display_data"
    }
   ],
   "source": [
    "import matplotlib.pyplot as plt\n",
    "plt.scatter(X_principal['P1'], X_principal['P2'],\n",
    "           c = KMeans(n_clusters = 4).fit_predict(X_principal), cmap =plt.cm.winter) \n",
    "plt.show()"
   ]
  },
  {
   "cell_type": "code",
   "execution_count": 58,
   "id": "e100ce53",
   "metadata": {},
   "outputs": [
    {
     "name": "stdout",
     "output_type": "stream",
     "text": [
      "the best methode is k-means clustering\n"
     ]
    }
   ],
   "source": [
    "print(\"the best methode is k-means clustering\")"
   ]
  },
  {
   "cell_type": "code",
   "execution_count": null,
   "id": "03e3b710",
   "metadata": {},
   "outputs": [],
   "source": []
  }
 ],
 "metadata": {
  "kernelspec": {
   "display_name": "Python 3 (ipykernel)",
   "language": "python",
   "name": "python3"
  },
  "language_info": {
   "codemirror_mode": {
    "name": "ipython",
    "version": 3
   },
   "file_extension": ".py",
   "mimetype": "text/x-python",
   "name": "python",
   "nbconvert_exporter": "python",
   "pygments_lexer": "ipython3",
   "version": "3.9.12"
  }
 },
 "nbformat": 4,
 "nbformat_minor": 5
}
